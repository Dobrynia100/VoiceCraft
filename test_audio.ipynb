{
 "cells": [
  {
   "cell_type": "code",
   "execution_count": 13,
   "id": "ddf8d3a8-1601-4cd9-8342-1cfcc4513702",
   "metadata": {},
   "outputs": [],
   "source": [
    "import librosa\n",
    "import os\n",
    "import numpy as np\n",
    "from scipy.stats import pearsonr\n"
   ]
  },
  {
   "cell_type": "code",
   "execution_count": 14,
   "id": "41de410c-d634-4bf3-a0e8-6cf6b37ab7f9",
   "metadata": {},
   "outputs": [],
   "source": [
    "def load_audio(file_path):\n",
    "    y, sr = librosa.load(file_path, sr=None)\n",
    "    return y, sr\n",
    "\n",
    "def normalize_audio(y):\n",
    "    return (y - np.mean(y)) / np.std(y)\n",
    "\n",
    "def calculate_pearson_correlation(y1, y2):\n",
    "    correlation, _ = pearsonr(y1, y2)\n",
    "    return correlation"
   ]
  },
  {
   "cell_type": "code",
   "execution_count": 15,
   "id": "7de4f332-bdc4-4c12-9ea4-796ccdd3ecae",
   "metadata": {},
   "outputs": [],
   "source": [
    "current_directory = os.getcwd()\n",
    "files = os.listdir(current_directory)\n",
    "audio_files = [file for file in files if file.endswith('.wav')]\n"
   ]
  },
  {
   "cell_type": "code",
   "execution_count": 16,
   "id": "cd389b9c-9bc9-41f7-b4d0-dd77aa07c5df",
   "metadata": {},
   "outputs": [
    {
     "name": "stdout",
     "output_type": "stream",
     "text": [
      "Коэффициент корреляции Пирсона: -0.010463088422413\n"
     ]
    }
   ],
   "source": [
    "\n",
    "if len(audio_files) < 2:\n",
    "    print(\"Недостаточно аудиофайлов для сравнения.\")\n",
    "else:\n",
    "    file_path1 = os.path.join(current_directory, audio_files[0])\n",
    "    file_path2 = os.path.join(current_directory, audio_files[1])\n",
    "\n",
    "    audio_data1 = load_audio(file_path1)\n",
    "    audio_data2 = load_audio(file_path2)\n",
    "\n",
    "y1, sr1 = load_audio(file_path1)\n",
    "y1_normalized = normalize_audio(y1)\n",
    "\n",
    "y2, sr2 = load_audio(file_path2)\n",
    "y2_normalized = normalize_audio(y2)\n",
    "\n",
    "if sr1 != sr2:\n",
    "    raise ValueError(\"Аудиофайлы имеют разные частоты дискретизации\")\n",
    "\n",
    "\n",
    "min_length = min(len(y1_normalized), len(y2_normalized))\n",
    "y1_normalized = y1_normalized[:min_length]\n",
    "y2_normalized = y2_normalized[:min_length]\n",
    "\n",
    "correlation = calculate_pearson_correlation(y1_normalized, y2_normalized)\n",
    "\n",
    "print(f\"Коэффициент корреляции Пирсона: {correlation}\")"
   ]
  },
  {
   "cell_type": "code",
   "execution_count": 22,
   "id": "707a709f-69aa-4ab1-8f7f-7169fdda0640",
   "metadata": {},
   "outputs": [
    {
     "name": "stdout",
     "output_type": "stream",
     "text": [
      "Косинусное сходство между аудиофайлами: -0.010463094499335801\n"
     ]
    }
   ],
   "source": [
    "from scipy.spatial.distance import cosine\n",
    "similarity = 1 - cosine(y1_normalized, y2_normalized)\n",
    "print(f'Косинусное сходство между аудиофайлами: {similarity}')"
   ]
  },
  {
   "cell_type": "code",
   "execution_count": 23,
   "id": "0d8c0475-6d54-49d3-abc4-51707e576fc7",
   "metadata": {},
   "outputs": [
    {
     "name": "stdout",
     "output_type": "stream",
     "text": [
      "Евклидово расстояние между аудиофайлами: 395.5869445800781\n"
     ]
    }
   ],
   "source": [
    "from scipy.spatial.distance import euclidean\n",
    "distance = euclidean(y1_normalized, y2_normalized)\n",
    "print(f'Евклидово расстояние между аудиофайлами: {distance}')"
   ]
  },
  {
   "cell_type": "code",
   "execution_count": 24,
   "id": "222b2410-d88a-4635-8045-e640fefa36bf",
   "metadata": {},
   "outputs": [
    {
     "name": "stdout",
     "output_type": "stream",
     "text": [
      "Максимальная кросс-корреляция: 4048.42333984375\n"
     ]
    }
   ],
   "source": [
    "correlation = np.correlate(y1_normalized, y2_normalized, mode='full')\n",
    "print(f'Максимальная кросс-корреляция: {np.max(correlation)}')"
   ]
  },
  {
   "cell_type": "code",
   "execution_count": 26,
   "id": "61f6cd03-d98f-4bf8-bd13-a6cfb4f31f28",
   "metadata": {},
   "outputs": [
    {
     "name": "stdout",
     "output_type": "stream",
     "text": [
      "Евклидово расстояние между MFCC аудиофайлов: 71.2802963256836\n"
     ]
    }
   ],
   "source": [
    "def extract_mfcc(audio_data, sr):\n",
    "    mfccs = librosa.feature.mfcc(y=audio_data, sr=sr, n_mfcc=13)\n",
    "    return np.mean(mfccs.T, axis=0)\n",
    "\n",
    "mfcc1 = extract_mfcc(y1, sr1)\n",
    "mfcc2 = extract_mfcc(y2, sr2)\n",
    "distance = euclidean(mfcc1, mfcc2)\n",
    "print(f'Евклидово расстояние между MFCC аудиофайлов: {distance}')"
   ]
  },
  {
   "cell_type": "code",
   "execution_count": null,
   "id": "4b140994-8c5c-4471-a4de-4cad12d9f6f8",
   "metadata": {},
   "outputs": [],
   "source": []
  }
 ],
 "metadata": {
  "kernelspec": {
   "display_name": "voicecraft",
   "language": "python",
   "name": "voicecraft"
  },
  "language_info": {
   "codemirror_mode": {
    "name": "ipython",
    "version": 3
   },
   "file_extension": ".py",
   "mimetype": "text/x-python",
   "name": "python",
   "nbconvert_exporter": "python",
   "pygments_lexer": "ipython3",
   "version": "3.9.19"
  }
 },
 "nbformat": 4,
 "nbformat_minor": 5
}
