{
 "cells": [
  {
   "cell_type": "code",
   "execution_count": 1,
   "id": "ddf8d3a8-1601-4cd9-8342-1cfcc4513702",
   "metadata": {},
   "outputs": [],
   "source": [
    "import librosa\n",
    "import os\n",
    "import numpy as np\n",
    "from scipy.stats import pearsonr\n"
   ]
  },
  {
   "cell_type": "code",
   "execution_count": 2,
   "id": "41de410c-d634-4bf3-a0e8-6cf6b37ab7f9",
   "metadata": {},
   "outputs": [],
   "source": [
    "def load_audio(file_path):\n",
    "    y, sr = librosa.load(file_path, sr=None)\n",
    "    return y, sr\n",
    "\n",
    "def normalize_audio(y):\n",
    "    return (y - np.mean(y)) / np.std(y)\n",
    "\n",
    "def calculate_pearson_correlation(y1, y2):\n",
    "    correlation, _ = pearsonr(y1, y2)\n",
    "    return correlation"
   ]
  },
  {
   "cell_type": "code",
   "execution_count": 3,
   "id": "7de4f332-bdc4-4c12-9ea4-796ccdd3ecae",
   "metadata": {},
   "outputs": [],
   "source": [
    "current_directory = os.getcwd()\n",
    "files = os.listdir(current_directory)\n",
    "audio_files = [file for file in files if file.endswith('.wav')]\n"
   ]
  },
  {
   "cell_type": "code",
   "execution_count": 4,
   "id": "cd389b9c-9bc9-41f7-b4d0-dd77aa07c5df",
   "metadata": {},
   "outputs": [
    {
     "name": "stdout",
     "output_type": "stream",
     "text": [
      "Коэффициент корреляции Пирсона: 1.0\n"
     ]
    }
   ],
   "source": [
    "\n",
    "if len(audio_files) < 2:\n",
    "    print(\"Недостаточно аудиофайлов для сравнения.\")\n",
    "else:\n",
    "    file_path1 = os.path.join(current_directory, audio_files[0])\n",
    "    file_path2 = os.path.join(current_directory, audio_files[1])\n",
    "\n",
    "    audio_data1 = load_audio(file_path1)\n",
    "    audio_data2 = load_audio(file_path2)\n",
    "\n",
    "y1, sr1 = load_audio(file_path1)\n",
    "y1_normalized = normalize_audio(y1)\n",
    "\n",
    "y2, sr2 = load_audio(file_path2)\n",
    "y2_normalized = normalize_audio(y2)\n",
    "\n",
    "if sr1 != sr2:\n",
    "    raise ValueError(\"Аудиофайлы имеют разные частоты дискретизации\")\n",
    "\n",
    "\n",
    "min_length = min(len(y1_normalized), len(y2_normalized))\n",
    "y1_normalized = y1_normalized[:min_length]\n",
    "y2_normalized = y2_normalized[:min_length]\n",
    "\n",
    "correlation = calculate_pearson_correlation(y1_normalized, y2_normalized)\n",
    "\n",
    "print(f\"Коэффициент корреляции Пирсона: {correlation}\")"
   ]
  },
  {
   "cell_type": "code",
   "execution_count": null,
   "id": "707a709f-69aa-4ab1-8f7f-7169fdda0640",
   "metadata": {},
   "outputs": [],
   "source": []
  }
 ],
 "metadata": {
  "kernelspec": {
   "display_name": "voicecraft",
   "language": "python",
   "name": "voicecraft"
  },
  "language_info": {
   "codemirror_mode": {
    "name": "ipython",
    "version": 3
   },
   "file_extension": ".py",
   "mimetype": "text/x-python",
   "name": "python",
   "nbconvert_exporter": "python",
   "pygments_lexer": "ipython3",
   "version": "3.9.19"
  }
 },
 "nbformat": 4,
 "nbformat_minor": 5
}
